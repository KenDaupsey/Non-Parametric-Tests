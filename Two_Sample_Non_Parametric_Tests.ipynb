{
  "nbformat": 4,
  "nbformat_minor": 0,
  "metadata": {
    "colab": {
      "provenance": [],
      "authorship_tag": "ABX9TyNack3iV6t28uyhx91XgxG/",
      "include_colab_link": true
    },
    "kernelspec": {
      "name": "python3",
      "display_name": "Python 3"
    },
    "language_info": {
      "name": "python"
    }
  },
  "cells": [
    {
      "cell_type": "markdown",
      "metadata": {
        "id": "view-in-github",
        "colab_type": "text"
      },
      "source": [
        "<a href=\"https://colab.research.google.com/github/KenDaupsey/Non-Parametric-Tests/blob/main/Two_Sample_Non_Parametric_Tests.ipynb\" target=\"_parent\"><img src=\"https://colab.research.google.com/assets/colab-badge.svg\" alt=\"Open In Colab\"/></a>"
      ]
    },
    {
      "cell_type": "markdown",
      "source": [
        "*** Non-Parametric Tests ***"
      ],
      "metadata": {
        "id": "rhWZAsiWoF4R"
      }
    },
    {
      "cell_type": "markdown",
      "source": [
        "*Wilcoxon-Sign-Rank Test*"
      ],
      "metadata": {
        "id": "Ds_UZ3UEoOVk"
      }
    },
    {
      "cell_type": "code",
      "source": [
        "### Firstly, we import the necessary libraries need for this procedure;\n",
        "\n",
        "#### Import necessary libraries\n",
        "import pandas as pd\n",
        "import numpy as np\n",
        "import matplotlib.pyplot as plt\n",
        "%matplotlib inline\n",
        "from scipy.stats import wilcoxon  # Import the wilcoxon function from scipy.stats"
      ],
      "metadata": {
        "id": "i0VDTt3YoIwk"
      },
      "execution_count": 1,
      "outputs": []
    },
    {
      "cell_type": "code",
      "source": [
        "# Load the dataset from GitHub URL\n",
        "url = \"https://raw.githubusercontent.com/KenDaupsey/Non-Parametric-Tests/main/weight_loss_data.csv\"\n",
        "df = pd.read_csv(url)\n",
        "\n",
        "# Display the first 5 rows of the dataset\n",
        "print(df.head())"
      ],
      "metadata": {
        "colab": {
          "base_uri": "https://localhost:8080/"
        },
        "id": "c9iXLn0YoXE4",
        "outputId": "513ff609-031c-4db6-f448-cba043b1a689"
      },
      "execution_count": 2,
      "outputs": [
        {
          "output_type": "stream",
          "name": "stdout",
          "text": [
            "   Before  After\n",
            "0    77.5   73.9\n",
            "1    74.3   71.0\n",
            "2    78.2   75.8\n",
            "3    82.6   77.7\n",
            "4    73.8   70.4\n"
          ]
        }
      ]
    },
    {
      "cell_type": "code",
      "source": [
        "# Perform the Wilcoxon Signed-Rank test\n",
        "wilcoxon_stat, wilcoxon_p_value = wilcoxon(df['Before'], df['After'])\n",
        "print(f'Wilcoxon Signed-Rank Test: Statistic={wilcoxon_stat}, p-value={wilcoxon_p_value:.4f}')\n",
        "\n",
        "# Plot the weight change distribution\n",
        "plt.figure(figsize=(10, 6))\n",
        "plt.hist(df['Before'], alpha=0.5, label='Before Program', bins=30)\n",
        "plt.hist(df['After'], alpha=0.5, label='After Program', bins=30)\n",
        "plt.xlabel('Weight')\n",
        "plt.ylabel('Frequency')\n",
        "plt.legend()\n",
        "plt.title('Weight Change Before and After the Program')\n",
        "plt.show()"
      ],
      "metadata": {
        "colab": {
          "base_uri": "https://localhost:8080/",
          "height": 582
        },
        "id": "8o-bbqT3o606",
        "outputId": "ee7234cf-cfa2-4ff5-be7a-36a5c4e3716b"
      },
      "execution_count": 3,
      "outputs": [
        {
          "output_type": "stream",
          "name": "stdout",
          "text": [
            "Wilcoxon Signed-Rank Test: Statistic=0.0, p-value=0.0000\n"
          ]
        },
        {
          "output_type": "display_data",
          "data": {
            "text/plain": [
              "<Figure size 1000x600 with 1 Axes>"
            ],
            "image/png": "[encoded data removed]"
          },
          "metadata": {}
        }
      ]
    },
    {
      "cell_type": "markdown",
      "source": [
        "*Another Wilcoxon Signed Rank Sum Test*"
      ],
      "metadata": {
        "id": "43aJnRq2pT64"
      }
    },
    {
      "cell_type": "code",
      "source": [
        "import pandas as pd\n",
        "import numpy as np\n",
        "import matplotlib.pyplot as plt\n",
        "import statsmodels.api as sm"
      ],
      "metadata": {
        "id": "DSZcwRH8pGDi"
      },
      "execution_count": 4,
      "outputs": []
    },
    {
      "cell_type": "code",
      "source": [
        "# Load the dataset from GitHub URL\n",
        "url = \"https://raw.githubusercontent.com/KenDaupsey/Non-Parametric-Tests/main/hsb2%7Edata.csv\"\n",
        "df = pd.read_csv(url)\n",
        "\n",
        "# Display the first 5 rows of the dataset\n",
        "print(df.head())"
      ],
      "metadata": {
        "colab": {
          "base_uri": "https://localhost:8080/"
        },
        "id": "5rSBn6gJpYap",
        "outputId": "06c54465-adbb-4047-dff8-6ad476c64245"
      },
      "execution_count": 5,
      "outputs": [
        {
          "output_type": "stream",
          "name": "stdout",
          "text": [
            "    id  female   race     ses  schtyp      prog  read  write  math  science  \\\n",
            "0   70    male  white     low  public   general    57     52    41       47   \n",
            "1  121  female  white  middle  public  vocation    68     59    53       63   \n",
            "2   86    male  white    high  public   general    44     33    54       58   \n",
            "3  141    male  white    high  public  vocation    63     44    47       53   \n",
            "4  172    male  white  middle  public  academic    47     52    57       53   \n",
            "\n",
            "   socst  \n",
            "0     57  \n",
            "1     61  \n",
            "2     31  \n",
            "3     56  \n",
            "4     61  \n"
          ]
        }
      ]
    },
    {
      "cell_type": "code",
      "source": [
        "#Wilcoxon signed rank test\n",
        "import scipy.stats as stats\n",
        "stats.wilcoxon(df['read']-df['write'])"
      ],
      "metadata": {
        "colab": {
          "base_uri": "https://localhost:8080/"
        },
        "id": "x8AQWIhJplzq",
        "outputId": "cde4e3a4-d501-4412-f333-7f1be1bdc122"
      },
      "execution_count": 6,
      "outputs": [
        {
          "output_type": "execute_result",
          "data": {
            "text/plain": [
              "WilcoxonResult(statistic=7944.0, pvalue=0.36626485210639514)"
            ]
          },
          "metadata": {},
          "execution_count": 6
        }
      ]
    },
    {
      "cell_type": "code",
      "source": [
        "### Procedure elow makes p-value 4 decimal places\n",
        "#Wilcoxon signed rank test\n",
        "import scipy.stats as stats\n",
        "import pandas as pd\n",
        "\n",
        "# Assuming df is your DataFrame\n",
        "# Wilcoxon signed-rank test between 'read' and 'write'\n",
        "result = stats.wilcoxon(df['read'], df['write'])\n",
        "\n",
        "# Print the result\n",
        "print(\"Wilcoxon Signed-Rank Test:\")\n",
        "print(f\"Test Statistic: {result.statistic:.4f}\")\n",
        "print(f\"P-value: {result.pvalue:.4f}\")"
      ],
      "metadata": {
        "colab": {
          "base_uri": "https://localhost:8080/"
        },
        "id": "vhdKJWeapyYT",
        "outputId": "7db75494-94b0-4a35-c48d-70e795400a73"
      },
      "execution_count": 7,
      "outputs": [
        {
          "output_type": "stream",
          "name": "stdout",
          "text": [
            "Wilcoxon Signed-Rank Test:\n",
            "Test Statistic: 7944.0000\n",
            "P-value: 0.3663\n"
          ]
        }
      ]
    },
    {
      "cell_type": "markdown",
      "source": [
        "*Sign test*"
      ],
      "metadata": {
        "id": "OFsa-V6Vp-2p"
      }
    },
    {
      "cell_type": "code",
      "source": [
        "import scipy.stats as stats\n",
        "import pandas as pd\n",
        "\n",
        "# Assuming df is your DataFrame\n",
        "\n",
        "# Calculate the differences between 'read' and 'write'\n",
        "diff = df['read'] - df['write']\n",
        "\n",
        "# Count the number of positive and negative differences\n",
        "num_positive_diff = sum(diff > 0)\n",
        "num_negative_diff = sum(diff < 0)\n",
        "\n",
        "# Perform a two-sided binomial test\n",
        "n = len(diff)\n",
        "p_value = stats.binom_test(min(num_positive_diff, num_negative_diff), n=n, alternative='two-sided')\n",
        "\n",
        "# Print the result\n",
        "print(\"Sign Test:\")\n",
        "print(f\"Number of positive differences: {num_positive_diff}\")\n",
        "print(f\"Number of negative differences: {num_negative_diff}\")\n",
        "print(f\"P-value: {p_value:.4f}\")"
      ],
      "metadata": {
        "colab": {
          "base_uri": "https://localhost:8080/"
        },
        "id": "huPEu9DCp7Td",
        "outputId": "d8b8d775-a7e0-42ea-f34e-0815fa02d1ca"
      },
      "execution_count": 8,
      "outputs": [
        {
          "output_type": "stream",
          "name": "stdout",
          "text": [
            "Sign Test:\n",
            "Number of positive differences: 88\n",
            "Number of negative differences: 97\n",
            "P-value: 0.1036\n"
          ]
        },
        {
          "output_type": "stream",
          "name": "stderr",
          "text": [
            "<ipython-input-8-7fc143822d2f>:15: DeprecationWarning: 'binom_test' is deprecated in favour of 'binomtest' from version 1.7.0 and will be removed in Scipy 1.12.0.\n",
            "  p_value = stats.binom_test(min(num_positive_diff, num_negative_diff), n=n, alternative='two-sided')\n"
          ]
        }
      ]
    },
    {
      "cell_type": "markdown",
      "source": [
        "*Binomial Test*"
      ],
      "metadata": {
        "id": "C_fPHt5fqIzJ"
      }
    },
    {
      "cell_type": "code",
      "source": [
        "import pandas as pd\n",
        "import numpy as np\n",
        "import matplotlib.pyplot as plt\n",
        "import statsmodels.api as sm"
      ],
      "metadata": {
        "id": "kfuGMbYKqUka"
      },
      "execution_count": 9,
      "outputs": []
    },
    {
      "cell_type": "code",
      "source": [
        "# Load the dataset from GitHub URL\n",
        "url = \"https://raw.githubusercontent.com/KenDaupsey/Non-Parametric-Tests/main/weight_loss_data.csv\"\n",
        "df = pd.read_csv(url)\n",
        "\n",
        "# Display the first 5 rows of the dataset\n",
        "print(df.head())"
      ],
      "metadata": {
        "colab": {
          "base_uri": "https://localhost:8080/"
        },
        "id": "ECuvQEUyqDZ-",
        "outputId": "0478fe6c-ed5f-49c5-da69-9ec15fdf9bfc"
      },
      "execution_count": 10,
      "outputs": [
        {
          "output_type": "stream",
          "name": "stdout",
          "text": [
            "   Before  After\n",
            "0    77.5   73.9\n",
            "1    74.3   71.0\n",
            "2    78.2   75.8\n",
            "3    82.6   77.7\n",
            "4    73.8   70.4\n"
          ]
        }
      ]
    },
    {
      "cell_type": "code",
      "source": [
        "import scipy.stats as stats\n",
        "import pandas as pd\n",
        "\n",
        "# Assuming df is your DataFrame\n",
        "# Sign test between 'read' and 'write'\n",
        "diff = df['Before'] - df['After']\n",
        "num_positive_diff = sum(diff > 0)\n",
        "result = stats.binom_test(num_positive_diff, n=len(diff), alternative='two-sided')\n",
        "\n",
        "# Print the result\n",
        "print(\"Binominal Test:\")\n",
        "print(f\"Number of positive differences: {num_positive_diff}\")\n",
        "print(f\"P-value: {result:.4f}\")"
      ],
      "metadata": {
        "colab": {
          "base_uri": "https://localhost:8080/"
        },
        "id": "Uv0IeHeFqbS5",
        "outputId": "6f27224b-3855-456d-ec3b-c04aedcb087f"
      },
      "execution_count": 11,
      "outputs": [
        {
          "output_type": "stream",
          "name": "stdout",
          "text": [
            "Binominal Test:\n",
            "Number of positive differences: 500\n",
            "P-value: 0.0000\n"
          ]
        },
        {
          "output_type": "stream",
          "name": "stderr",
          "text": [
            "<ipython-input-11-17c88e97db67>:8: DeprecationWarning: 'binom_test' is deprecated in favour of 'binomtest' from version 1.7.0 and will be removed in Scipy 1.12.0.\n",
            "  result = stats.binom_test(num_positive_diff, n=len(diff), alternative='two-sided')\n"
          ]
        }
      ]
    },
    {
      "cell_type": "markdown",
      "source": [
        "*McNemar Test*"
      ],
      "metadata": {
        "id": "zgcb5A0XrT3t"
      }
    },
    {
      "cell_type": "code",
      "source": [
        "# McNemar test with contingency table\n",
        "import math\n",
        "import pandas as pd\n",
        "\n",
        "# Given values\n",
        "TP = 172\n",
        "TN = 6\n",
        "FP = 7\n",
        "FN = 15\n",
        "\n",
        "# Create a contingency table\n",
        "contingency_table = pd.DataFrame({'Actual_Positive': [TP, FN], 'Actual_Negative': [FP, TN]}, index=['Predicted_Positive', 'Predicted_Negative'])\n",
        "\n",
        "# Calculate Matthews correlation coefficient (MCC)\n",
        "mcc = (TP * TN - FP * FN) / math.sqrt((TP + FP) * (TP + FN) * (TN + FP) * (TN + FN))\n",
        "\n",
        "# Print the contingency table\n",
        "print(\"Contingency Table:\")\n",
        "print(contingency_table)\n",
        "\n",
        "# Print the MCC\n",
        "print(f\"\\nMatthews Correlation Coefficient (MCC): {mcc:.4f}\")"
      ],
      "metadata": {
        "colab": {
          "base_uri": "https://localhost:8080/"
        },
        "id": "TDw3lNwkq1Vr",
        "outputId": "4cfafa68-87ed-4501-8c05-0b802be2c5f6"
      },
      "execution_count": 12,
      "outputs": [
        {
          "output_type": "stream",
          "name": "stdout",
          "text": [
            "Contingency Table:\n",
            "                    Actual_Positive  Actual_Negative\n",
            "Predicted_Positive              172                7\n",
            "Predicted_Negative               15                6\n",
            "\n",
            "Matthews Correlation Coefficient (MCC): 0.3067\n"
          ]
        }
      ]
    },
    {
      "cell_type": "markdown",
      "source": [
        "*Mann-Whitney test*"
      ],
      "metadata": {
        "id": "uq6ofUKFtdGs"
      }
    },
    {
      "cell_type": "code",
      "source": [
        "#### Import necessary libraries\n",
        "import pandas as pd\n",
        "import numpy as np\n",
        "import matplotlib.pyplot as plt\n",
        "%matplotlib inline"
      ],
      "metadata": {
        "id": "WOTx57f5rasa"
      },
      "execution_count": 13,
      "outputs": []
    },
    {
      "cell_type": "code",
      "source": [
        "# Load the dataset from GitHub URL\n",
        "url = \"https://raw.githubusercontent.com/KenDaupsey/Non-Parametric-Tests/main/hsb2%7Edata.csv\"\n",
        "df = pd.read_csv(url)\n",
        "\n",
        "# Display the first 5 rows of the dataset\n",
        "print(df.head())"
      ],
      "metadata": {
        "colab": {
          "base_uri": "https://localhost:8080/"
        },
        "id": "C3W14kbnrjyB",
        "outputId": "a34b4f55-dda1-4f3f-afe8-cabd9fe1694c"
      },
      "execution_count": 14,
      "outputs": [
        {
          "output_type": "stream",
          "name": "stdout",
          "text": [
            "    id  female   race     ses  schtyp      prog  read  write  math  science  \\\n",
            "0   70    male  white     low  public   general    57     52    41       47   \n",
            "1  121  female  white  middle  public  vocation    68     59    53       63   \n",
            "2   86    male  white    high  public   general    44     33    54       58   \n",
            "3  141    male  white    high  public  vocation    63     44    47       53   \n",
            "4  172    male  white  middle  public  academic    47     52    57       53   \n",
            "\n",
            "   socst  \n",
            "0     57  \n",
            "1     61  \n",
            "2     31  \n",
            "3     56  \n",
            "4     61  \n"
          ]
        }
      ]
    },
    {
      "cell_type": "code",
      "source": [
        "df['female'].value_counts()"
      ],
      "metadata": {
        "colab": {
          "base_uri": "https://localhost:8080/"
        },
        "id": "GE_geA8btA0V",
        "outputId": "23a25e39-ba0b-451b-f28c-0254ed60f541"
      },
      "execution_count": 15,
      "outputs": [
        {
          "output_type": "execute_result",
          "data": {
            "text/plain": [
              "female    109\n",
              "male       91\n",
              "Name: female, dtype: int64"
            ]
          },
          "metadata": {},
          "execution_count": 15
        }
      ]
    },
    {
      "cell_type": "code",
      "source": [
        "# Check the column names for any whitespace characters\n",
        "print(df.columns)\n",
        "\n",
        "# Remove whitespace characters from column names\n",
        "df.columns = df.columns.str.strip()\n",
        "\n",
        "# Now check if 'female' column exists\n",
        "print('female' in df.columns)"
      ],
      "metadata": {
        "colab": {
          "base_uri": "https://localhost:8080/"
        },
        "id": "Q4FUOguiNpm8",
        "outputId": "e304b484-84fa-4615-eec4-3ef5eacd9294"
      },
      "execution_count": 16,
      "outputs": [
        {
          "output_type": "stream",
          "name": "stdout",
          "text": [
            "Index(['id', 'female', 'race', 'ses', 'schtyp', 'prog', 'read', 'write',\n",
            "       'math', 'science', 'socst'],\n",
            "      dtype='object')\n",
            "True\n"
          ]
        }
      ]
    },
    {
      "cell_type": "code",
      "source": [
        "print(df['female'].dtype)\n"
      ],
      "metadata": {
        "colab": {
          "base_uri": "https://localhost:8080/"
        },
        "id": "l3bZF6kAN55K",
        "outputId": "76cf5116-3791-4b8a-ccd7-ea184f84250d"
      },
      "execution_count": 17,
      "outputs": [
        {
          "output_type": "stream",
          "name": "stdout",
          "text": [
            "object\n"
          ]
        }
      ]
    },
    {
      "cell_type": "code",
      "source": [
        "# Remove leading and trailing whitespaces from the 'female' column values\n",
        "df['female'] = df['female'].str.strip()\n",
        "\n",
        "## convert \"female\" to categorical data type\n",
        "df['female'] = df['female'].astype('category')"
      ],
      "metadata": {
        "id": "g0AOzXQUOL2u"
      },
      "execution_count": 18,
      "outputs": []
    },
    {
      "cell_type": "code",
      "source": [
        "df['female'].value_counts()"
      ],
      "metadata": {
        "colab": {
          "base_uri": "https://localhost:8080/"
        },
        "id": "ScZLW1aAOaeW",
        "outputId": "26d594ca-6a5c-4dbe-b23b-cf806cfdf550"
      },
      "execution_count": 19,
      "outputs": [
        {
          "output_type": "execute_result",
          "data": {
            "text/plain": [
              "female    109\n",
              "male       91\n",
              "Name: female, dtype: int64"
            ]
          },
          "metadata": {},
          "execution_count": 19
        }
      ]
    },
    {
      "cell_type": "code",
      "source": [
        "print(df['female'].dtype)"
      ],
      "metadata": {
        "colab": {
          "base_uri": "https://localhost:8080/"
        },
        "id": "jnUCZI2hS1eT",
        "outputId": "38230ddd-4ed6-4aea-dcc8-c43a138d87cb"
      },
      "execution_count": 20,
      "outputs": [
        {
          "output_type": "stream",
          "name": "stdout",
          "text": [
            "category\n"
          ]
        }
      ]
    },
    {
      "cell_type": "code",
      "source": [
        "import seaborn as sns"
      ],
      "metadata": {
        "id": "F299KvzGtsLO"
      },
      "execution_count": 21,
      "outputs": []
    },
    {
      "cell_type": "code",
      "source": [
        "### Final checks for the intergrity of dataset\n",
        "\n",
        "import pandas as pd\n",
        "from scipy.stats import mannwhitneyu\n",
        "\n",
        "# Assuming the dataset is already loaded into a pandas DataFrame called 'df'\n",
        "\n",
        "# Check DataFrame information\n",
        "print(df.info())"
      ],
      "metadata": {
        "colab": {
          "base_uri": "https://localhost:8080/"
        },
        "id": "ibP0KwLMQJH6",
        "outputId": "6b071a5d-b4d6-4b5a-95f4-b5fa14d04b4a"
      },
      "execution_count": 22,
      "outputs": [
        {
          "output_type": "stream",
          "name": "stdout",
          "text": [
            "<class 'pandas.core.frame.DataFrame'>\n",
            "RangeIndex: 200 entries, 0 to 199\n",
            "Data columns (total 11 columns):\n",
            " #   Column   Non-Null Count  Dtype   \n",
            "---  ------   --------------  -----   \n",
            " 0   id       200 non-null    int64   \n",
            " 1   female   200 non-null    category\n",
            " 2   race     200 non-null    object  \n",
            " 3   ses      200 non-null    object  \n",
            " 4   schtyp   200 non-null    object  \n",
            " 5   prog     200 non-null    object  \n",
            " 6   read     200 non-null    int64   \n",
            " 7   write    200 non-null    int64   \n",
            " 8   math     200 non-null    int64   \n",
            " 9   science  200 non-null    int64   \n",
            " 10  socst    200 non-null    int64   \n",
            "dtypes: category(1), int64(6), object(4)\n",
            "memory usage: 16.1+ KB\n",
            "None\n"
          ]
        }
      ]
    },
    {
      "cell_type": "code",
      "source": [
        "# Check unique values in 'female' column\n",
        "print(df['female'].unique())\n",
        "\n",
        "# Check unique values in 'write' column\n",
        "print(df['write'].unique())"
      ],
      "metadata": {
        "colab": {
          "base_uri": "https://localhost:8080/"
        },
        "id": "6KDetCeaRON_",
        "outputId": "c06b1782-b0db-4067-e5fc-0c992bfddf9e"
      },
      "execution_count": 23,
      "outputs": [
        {
          "output_type": "stream",
          "name": "stdout",
          "text": [
            "['male', 'female']\n",
            "Categories (2, object): ['female', 'male']\n",
            "[52 59 33 44 46 57 55 65 60 63 49 39 40 37 38 31 67 41 54 62 47 61 42 43\n",
            " 45 36 35 50 53]\n"
          ]
        }
      ]
    },
    {
      "cell_type": "code",
      "source": [
        "# Select subsets of data based on the condition\n",
        "subset_female = df.loc[df['female'] == 'female', 'write']\n",
        "subset_male = df.loc[df['female'] == 'male', 'write']"
      ],
      "metadata": {
        "id": "NXQEZOdKRVaJ"
      },
      "execution_count": 24,
      "outputs": []
    },
    {
      "cell_type": "code",
      "source": [
        "# Check if subsets have a non-zero size before performing the test\n",
        "if len(subset_female) > 0 and len(subset_male) > 0:\n",
        "    # Perform the test\n",
        "    statistic, p_value = mannwhitneyu(subset_female, subset_male)\n",
        "\n",
        "    # Print the test results\n",
        "    print(\"Mann-Whitney U statistic:\", statistic)\n",
        "    print(\"P-value:\", round(p_value, 4))\n",
        "else:\n",
        "    print(\"Error: One or both subsets have a size of zero.\")"
      ],
      "metadata": {
        "colab": {
          "base_uri": "https://localhost:8080/"
        },
        "id": "8-Lk9Fs0RdIH",
        "outputId": "c1cc585e-8a35-4dd1-81b2-ec43fae2a3cc"
      },
      "execution_count": 25,
      "outputs": [
        {
          "output_type": "stream",
          "name": "stdout",
          "text": [
            "Mann-Whitney U statistic: 6313.0\n",
            "P-value: 0.0009\n"
          ]
        }
      ]
    },
    {
      "cell_type": "markdown",
      "source": [
        "*Kruskal-Wallis Test*"
      ],
      "metadata": {
        "id": "RMJUP6Xat1yo"
      }
    },
    {
      "cell_type": "code",
      "source": [
        "#### Import necessary libraries\n",
        "import pandas as pd\n",
        "import numpy as np\n",
        "import matplotlib.pyplot as plt\n",
        "%matplotlib inline"
      ],
      "metadata": {
        "id": "-uYQ6dT9uc5M"
      },
      "execution_count": 26,
      "outputs": []
    },
    {
      "cell_type": "code",
      "source": [
        "# Load the dataset from GitHub URL\n",
        "url = \"https://raw.githubusercontent.com/KenDaupsey/Non-Parametric-Tests/main/hsb2%7Edata.csv\"\n",
        "df = pd.read_csv(url)\n",
        "\n",
        "# Display the first 5 rows of the dataset\n",
        "print(df.head())"
      ],
      "metadata": {
        "colab": {
          "base_uri": "https://localhost:8080/"
        },
        "id": "3ATg-w0_uolQ",
        "outputId": "18080d32-52fc-4f0a-9541-ecaec6a12bd4"
      },
      "execution_count": 27,
      "outputs": [
        {
          "output_type": "stream",
          "name": "stdout",
          "text": [
            "    id  female   race     ses  schtyp      prog  read  write  math  science  \\\n",
            "0   70    male  white     low  public   general    57     52    41       47   \n",
            "1  121  female  white  middle  public  vocation    68     59    53       63   \n",
            "2   86    male  white    high  public   general    44     33    54       58   \n",
            "3  141    male  white    high  public  vocation    63     44    47       53   \n",
            "4  172    male  white  middle  public  academic    47     52    57       53   \n",
            "\n",
            "   socst  \n",
            "0     57  \n",
            "1     61  \n",
            "2     31  \n",
            "3     56  \n",
            "4     61  \n"
          ]
        }
      ]
    },
    {
      "cell_type": "code",
      "source": [
        "df.columns"
      ],
      "metadata": {
        "colab": {
          "base_uri": "https://localhost:8080/"
        },
        "id": "DjfpnK3Ht_Tf",
        "outputId": "1805a816-dbd4-475f-97b0-866d6d34f968"
      },
      "execution_count": 28,
      "outputs": [
        {
          "output_type": "execute_result",
          "data": {
            "text/plain": [
              "Index(['id', 'female', 'race', 'ses', 'schtyp', 'prog', 'read', 'write',\n",
              "       'math', 'science', 'socst'],\n",
              "      dtype='object')"
            ]
          },
          "metadata": {},
          "execution_count": 28
        }
      ]
    },
    {
      "cell_type": "code",
      "source": [
        "import scipy.stats as stats\n",
        "import pandas as pd\n",
        "\n",
        "# Assuming df is your DataFrame\n",
        "if 'prog' in df.columns:\n",
        "    # Kruskal-Wallis test by 'prog'\n",
        "    result = stats.kruskal(*[group['write'] for name, group in df.groupby('prog')])\n",
        "\n",
        "    # Print the result\n",
        "    print(\"Kruskal-Wallis Test:\")\n",
        "    print(f\"Statistic: {result.statistic:.4f}\")\n",
        "    print(f\"P-value: {result.pvalue:.4f}\")\n",
        "else:\n",
        "    print(\"Error: Column 'prog' not found in the DataFrame.\")"
      ],
      "metadata": {
        "colab": {
          "base_uri": "https://localhost:8080/"
        },
        "id": "xNlw-wa3r7Ql",
        "outputId": "636e4b7d-eed8-4178-d023-bbf4638b04c4"
      },
      "execution_count": 29,
      "outputs": [
        {
          "output_type": "stream",
          "name": "stdout",
          "text": [
            "Kruskal-Wallis Test:\n",
            "Statistic: 34.0452\n",
            "P-value: 0.0000\n"
          ]
        }
      ]
    },
    {
      "cell_type": "code",
      "source": [],
      "metadata": {
        "id": "0qSushUZt6qm"
      },
      "execution_count": 29,
      "outputs": []
    },
    {
      "cell_type": "markdown",
      "source": [
        "*** Kruskal-Wallis Test  ***"
      ],
      "metadata": {
        "id": "8eKn_xymw7RJ"
      }
    },
    {
      "cell_type": "code",
      "source": [
        "#### Import necessary libraries\n",
        "import pandas as pd\n",
        "import numpy as np\n",
        "import matplotlib.pyplot as plt\n",
        "%matplotlib inline"
      ],
      "metadata": {
        "id": "l-yAUIOhw_uU"
      },
      "execution_count": 30,
      "outputs": []
    },
    {
      "cell_type": "code",
      "source": [
        "\n",
        "# Load the dataset from GitHub URL\n",
        "url = \"https://raw.githubusercontent.com/KenDaupsey/Non-Parametric-Tests/main/hsb2%7Edata.csv\"\n",
        "df = pd.read_csv(url)\n",
        "\n",
        "# Display the first 5 rows of the dataset\n",
        "#print(df.head())"
      ],
      "metadata": {
        "id": "Go7jo5zFxCAo"
      },
      "execution_count": 31,
      "outputs": []
    },
    {
      "cell_type": "code",
      "source": [
        "df.columns"
      ],
      "metadata": {
        "colab": {
          "base_uri": "https://localhost:8080/"
        },
        "id": "Fbp6niUBxMJR",
        "outputId": "f824dd95-92e5-48b2-f915-c9931a4c0d1c"
      },
      "execution_count": 32,
      "outputs": [
        {
          "output_type": "execute_result",
          "data": {
            "text/plain": [
              "Index(['id', 'female', 'race', 'ses', 'schtyp', 'prog', 'read', 'write',\n",
              "       'math', 'science', 'socst'],\n",
              "      dtype='object')"
            ]
          },
          "metadata": {},
          "execution_count": 32
        }
      ]
    },
    {
      "cell_type": "code",
      "source": [
        "import scipy.stats as stats\n",
        "import pandas as pd\n",
        "\n",
        "# Assuming df is your DataFrame\n",
        "if 'prog' in df.columns:\n",
        "    # Kruskal-Wallis test by 'prog'\n",
        "    result = stats.kruskal(*[group['write'] for name, group in df.groupby('prog')])\n",
        "\n",
        "    # Print the result\n",
        "    print(\"Kruskal-Wallis Test:\")\n",
        "    print(f\"Statistic: {result.statistic:.4f}\")\n",
        "    print(f\"P-value: {result.pvalue:.4f}\")\n",
        "else:\n",
        "    print(\"Error: Column 'prog' not found in the DataFrame.\")\n"
      ],
      "metadata": {
        "colab": {
          "base_uri": "https://localhost:8080/"
        },
        "id": "25bmwpeYxCv7",
        "outputId": "d9f595ca-e06b-49d8-f367-5bff657cfe58"
      },
      "execution_count": 33,
      "outputs": [
        {
          "output_type": "stream",
          "name": "stdout",
          "text": [
            "Kruskal-Wallis Test:\n",
            "Statistic: 34.0452\n",
            "P-value: 0.0000\n"
          ]
        }
      ]
    },
    {
      "cell_type": "markdown",
      "source": [
        "*** Kolmogorov-Smirnov (KS) Test With Plot***"
      ],
      "metadata": {
        "id": "HDVaUZ2sxYos"
      }
    },
    {
      "cell_type": "code",
      "source": [
        "import numpy as np\n",
        "from scipy.stats import kstest, norm\n",
        "import matplotlib.pyplot as plt\n",
        "\n",
        "# Assuming df is your DataFrame\n",
        "write_scores = df['write']\n",
        "\n",
        "# Generate a sample from a normal distribution with the same mean and standard deviation\n",
        "normal_sample = np.random.normal(np.mean(write_scores), np.std(write_scores), len(write_scores))\n",
        "\n",
        "# Perform the KS test\n",
        "ks_statistic, ks_p_value = kstest(write_scores, 'norm', args=(np.mean(write_scores), np.std(write_scores)))\n",
        "\n",
        "# Plot the ECDF of 'write' scores and the CDF of the normal distribution\n",
        "x = np.sort(write_scores)\n",
        "y = np.arange(1, len(x) + 1) / len(x)\n",
        "plt.step(x, y, label='Empirical CDF (write)')\n",
        "\n",
        "x_norm = np.sort(normal_sample)\n",
        "y_norm = np.arange(1, len(x_norm) + 1) / len(x_norm)\n",
        "plt.plot(x_norm, norm.cdf(x_norm, np.mean(write_scores), np.std(write_scores)), label='Normal CDF')\n",
        "\n",
        "plt.xlabel('Write Scores')\n",
        "plt.ylabel('Cumulative Probability')\n",
        "plt.legend()\n",
        "plt.show()\n",
        "\n",
        "# Print KS test results\n",
        "print(f\"KS Statistic: {ks_statistic}\")\n",
        "print(f\"P-value: {ks_p_value}\")"
      ],
      "metadata": {
        "colab": {
          "base_uri": "https://localhost:8080/",
          "height": 486
        },
        "id": "oc7HZgAKxMwP",
        "outputId": "d91e0bfe-9dd6-4afd-8606-5f61ad70a166"
      },
      "execution_count": 34,
      "outputs": [
        {
          "output_type": "display_data",
          "data": {
            "text/plain": [
              "<Figure size 640x480 with 1 Axes>"
            ],
            "image/png": "[encoded data removed]"
          },
          "metadata": {}
        },
        {
          "output_type": "stream",
          "name": "stdout",
          "text": [
            "KS Statistic: 0.13485672359472245\n",
            "P-value: 0.0012392145128983477\n"
          ]
        }
      ]
    },
    {
      "cell_type": "markdown",
      "source": [
        "*** Friedman test ***"
      ],
      "metadata": {
        "id": "ko52DZ_sxtzA"
      }
    },
    {
      "cell_type": "code",
      "source": [
        "import numpy as np\n",
        "import pandas as pd\n",
        "import matplotlib.pyplot as plt\n",
        "%matplotlib inline"
      ],
      "metadata": {
        "id": "61COBkqByIHa"
      },
      "execution_count": 35,
      "outputs": []
    },
    {
      "cell_type": "code",
      "source": [
        "# Load the dataset from GitHub URL\n",
        "url = \"https://raw.githubusercontent.com/KenDaupsey/Non-Parametric-Tests/main/Oneway%20Repeated%20Measures%20ANOVA%7Erb4.csv\"\n",
        "df = pd.read_csv(url)"
      ],
      "metadata": {
        "id": "ugf95TfqxqCS"
      },
      "execution_count": 36,
      "outputs": []
    },
    {
      "cell_type": "code",
      "source": [
        "df.head()"
      ],
      "metadata": {
        "colab": {
          "base_uri": "https://localhost:8080/",
          "height": 206
        },
        "id": "6kq7cGNky7HC",
        "outputId": "f33cddbd-8a0b-45a3-a739-16a68a4112ef"
      },
      "execution_count": 37,
      "outputs": [
        {
          "output_type": "execute_result",
          "data": {
            "text/plain": [
              "   Unnamed: 0    y  a    s\n",
              "0           0  3.0  1  1.0\n",
              "1           1  4.0  2  1.0\n",
              "2           2  4.0  3  1.0\n",
              "3           3  3.0  4  1.0\n",
              "4           4  2.0  1  2.0"
            ],
            "text/html": [
              "\n",
              "  <div id=\"df-b995409c-77b3-4460-8651-a32cc03d86f8\" class=\"colab-df-container\">\n",
              "    <div>\n",
              "<style scoped>\n",
              "    .dataframe tbody tr th:only-of-type {\n",
              "        vertical-align: middle;\n",
              "    }\n",
              "\n",
              "    .dataframe tbody tr th {\n",
              "        vertical-align: top;\n",
              "    }\n",
              "\n",
              "    .dataframe thead th {\n",
              "        text-align: right;\n",
              "    }\n",
              "</style>\n",
              "<table border=\"1\" class=\"dataframe\">\n",
              "  <thead>\n",
              "    <tr style=\"text-align: right;\">\n",
              "      <th></th>\n",
              "      <th>Unnamed: 0</th>\n",
              "      <th>y</th>\n",
              "      <th>a</th>\n",
              "      <th>s</th>\n",
              "    </tr>\n",
              "  </thead>\n",
              "  <tbody>\n",
              "    <tr>\n",
              "      <th>0</th>\n",
              "      <td>0</td>\n",
              "      <td>3.0</td>\n",
              "      <td>1</td>\n",
              "      <td>1.0</td>\n",
              "    </tr>\n",
              "    <tr>\n",
              "      <th>1</th>\n",
              "      <td>1</td>\n",
              "      <td>4.0</td>\n",
              "      <td>2</td>\n",
              "      <td>1.0</td>\n",
              "    </tr>\n",
              "    <tr>\n",
              "      <th>2</th>\n",
              "      <td>2</td>\n",
              "      <td>4.0</td>\n",
              "      <td>3</td>\n",
              "      <td>1.0</td>\n",
              "    </tr>\n",
              "    <tr>\n",
              "      <th>3</th>\n",
              "      <td>3</td>\n",
              "      <td>3.0</td>\n",
              "      <td>4</td>\n",
              "      <td>1.0</td>\n",
              "    </tr>\n",
              "    <tr>\n",
              "      <th>4</th>\n",
              "      <td>4</td>\n",
              "      <td>2.0</td>\n",
              "      <td>1</td>\n",
              "      <td>2.0</td>\n",
              "    </tr>\n",
              "  </tbody>\n",
              "</table>\n",
              "</div>\n",
              "    <div class=\"colab-df-buttons\">\n",
              "\n",
              "  <div class=\"colab-df-container\">\n",
              "    <button class=\"colab-df-convert\" onclick=\"convertToInteractive('df-b995409c-77b3-4460-8651-a32cc03d86f8')\"\n",
              "            title=\"Convert this dataframe to an interactive table.\"\n",
              "            style=\"display:none;\">\n",
              "\n",
              "  <svg xmlns=\"http://www.w3.org/2000/svg\" height=\"24px\" viewBox=\"0 -960 960 960\">\n",
              "    <path d=\"M120-120v-720h720v720H120Zm60-500h600v-160H180v160Zm220 220h160v-160H400v160Zm0 220h160v-160H400v160ZM180-400h160v-160H180v160Zm440 0h160v-160H620v160ZM180-180h160v-160H180v160Zm440 0h160v-160H620v160Z\"/>\n",
              "  </svg>\n",
              "    </button>\n",
              "\n",
              "  <style>\n",
              "    .colab-df-container {\n",
              "      display:flex;\n",
              "      gap: 12px;\n",
              "    }\n",
              "\n",
              "    .colab-df-convert {\n",
              "      background-color: #E8F0FE;\n",
              "      border: none;\n",
              "      border-radius: 50%;\n",
              "      cursor: pointer;\n",
              "      display: none;\n",
              "      fill: #1967D2;\n",
              "      height: 32px;\n",
              "      padding: 0 0 0 0;\n",
              "      width: 32px;\n",
              "    }\n",
              "\n",
              "    .colab-df-convert:hover {\n",
              "      background-color: #E2EBFA;\n",
              "      box-shadow: 0px 1px 2px rgba(60, 64, 67, 0.3), 0px 1px 3px 1px rgba(60, 64, 67, 0.15);\n",
              "      fill: #174EA6;\n",
              "    }\n",
              "\n",
              "    .colab-df-buttons div {\n",
              "      margin-bottom: 4px;\n",
              "    }\n",
              "\n",
              "    [theme=dark] .colab-df-convert {\n",
              "      background-color: #3B4455;\n",
              "      fill: #D2E3FC;\n",
              "    }\n",
              "\n",
              "    [theme=dark] .colab-df-convert:hover {\n",
              "      background-color: #434B5C;\n",
              "      box-shadow: 0px 1px 3px 1px rgba(0, 0, 0, 0.15);\n",
              "      filter: drop-shadow(0px 1px 2px rgba(0, 0, 0, 0.3));\n",
              "      fill: #FFFFFF;\n",
              "    }\n",
              "  </style>\n",
              "\n",
              "    <script>\n",
              "      const buttonEl =\n",
              "        document.querySelector('#df-b995409c-77b3-4460-8651-a32cc03d86f8 button.colab-df-convert');\n",
              "      buttonEl.style.display =\n",
              "        google.colab.kernel.accessAllowed ? 'block' : 'none';\n",
              "\n",
              "      async function convertToInteractive(key) {\n",
              "        const element = document.querySelector('#df-b995409c-77b3-4460-8651-a32cc03d86f8');\n",
              "        const dataTable =\n",
              "          await google.colab.kernel.invokeFunction('convertToInteractive',\n",
              "                                                    [key], {});\n",
              "        if (!dataTable) return;\n",
              "\n",
              "        const docLinkHtml = 'Like what you see? Visit the ' +\n",
              "          '<a target=\"_blank\" href=https://colab.research.google.com/notebooks/data_table.ipynb>data table notebook</a>'\n",
              "          + ' to learn more about interactive tables.';\n",
              "        element.innerHTML = '';\n",
              "        dataTable['output_type'] = 'display_data';\n",
              "        await google.colab.output.renderOutput(dataTable, element);\n",
              "        const docLink = document.createElement('div');\n",
              "        docLink.innerHTML = docLinkHtml;\n",
              "        element.appendChild(docLink);\n",
              "      }\n",
              "    </script>\n",
              "  </div>\n",
              "\n",
              "\n",
              "<div id=\"df-102d1fe2-35bf-4810-8c6d-c3cbb8bfe42f\">\n",
              "  <button class=\"colab-df-quickchart\" onclick=\"quickchart('df-102d1fe2-35bf-4810-8c6d-c3cbb8bfe42f')\"\n",
              "            title=\"Suggest charts\"\n",
              "            style=\"display:none;\">\n",
              "\n",
              "<svg xmlns=\"http://www.w3.org/2000/svg\" height=\"24px\"viewBox=\"0 0 24 24\"\n",
              "     width=\"24px\">\n",
              "    <g>\n",
              "        <path d=\"M19 3H5c-1.1 0-2 .9-2 2v14c0 1.1.9 2 2 2h14c1.1 0 2-.9 2-2V5c0-1.1-.9-2-2-2zM9 17H7v-7h2v7zm4 0h-2V7h2v10zm4 0h-2v-4h2v4z\"/>\n",
              "    </g>\n",
              "</svg>\n",
              "  </button>\n",
              "\n",
              "<style>\n",
              "  .colab-df-quickchart {\n",
              "      --bg-color: #E8F0FE;\n",
              "      --fill-color: #1967D2;\n",
              "      --hover-bg-color: #E2EBFA;\n",
              "      --hover-fill-color: #174EA6;\n",
              "      --disabled-fill-color: #AAA;\n",
              "      --disabled-bg-color: #DDD;\n",
              "  }\n",
              "\n",
              "  [theme=dark] .colab-df-quickchart {\n",
              "      --bg-color: #3B4455;\n",
              "      --fill-color: #D2E3FC;\n",
              "      --hover-bg-color: #434B5C;\n",
              "      --hover-fill-color: #FFFFFF;\n",
              "      --disabled-bg-color: #3B4455;\n",
              "      --disabled-fill-color: #666;\n",
              "  }\n",
              "\n",
              "  .colab-df-quickchart {\n",
              "    background-color: var(--bg-color);\n",
              "    border: none;\n",
              "    border-radius: 50%;\n",
              "    cursor: pointer;\n",
              "    display: none;\n",
              "    fill: var(--fill-color);\n",
              "    height: 32px;\n",
              "    padding: 0;\n",
              "    width: 32px;\n",
              "  }\n",
              "\n",
              "  .colab-df-quickchart:hover {\n",
              "    background-color: var(--hover-bg-color);\n",
              "    box-shadow: 0 1px 2px rgba(60, 64, 67, 0.3), 0 1px 3px 1px rgba(60, 64, 67, 0.15);\n",
              "    fill: var(--button-hover-fill-color);\n",
              "  }\n",
              "\n",
              "  .colab-df-quickchart-complete:disabled,\n",
              "  .colab-df-quickchart-complete:disabled:hover {\n",
              "    background-color: var(--disabled-bg-color);\n",
              "    fill: var(--disabled-fill-color);\n",
              "    box-shadow: none;\n",
              "  }\n",
              "\n",
              "  .colab-df-spinner {\n",
              "    border: 2px solid var(--fill-color);\n",
              "    border-color: transparent;\n",
              "    border-bottom-color: var(--fill-color);\n",
              "    animation:\n",
              "      spin 1s steps(1) infinite;\n",
              "  }\n",
              "\n",
              "  @keyframes spin {\n",
              "    0% {\n",
              "      border-color: transparent;\n",
              "      border-bottom-color: var(--fill-color);\n",
              "      border-left-color: var(--fill-color);\n",
              "    }\n",
              "    20% {\n",
              "      border-color: transparent;\n",
              "      border-left-color: var(--fill-color);\n",
              "      border-top-color: var(--fill-color);\n",
              "    }\n",
              "    30% {\n",
              "      border-color: transparent;\n",
              "      border-left-color: var(--fill-color);\n",
              "      border-top-color: var(--fill-color);\n",
              "      border-right-color: var(--fill-color);\n",
              "    }\n",
              "    40% {\n",
              "      border-color: transparent;\n",
              "      border-right-color: var(--fill-color);\n",
              "      border-top-color: var(--fill-color);\n",
              "    }\n",
              "    60% {\n",
              "      border-color: transparent;\n",
              "      border-right-color: var(--fill-color);\n",
              "    }\n",
              "    80% {\n",
              "      border-color: transparent;\n",
              "      border-right-color: var(--fill-color);\n",
              "      border-bottom-color: var(--fill-color);\n",
              "    }\n",
              "    90% {\n",
              "      border-color: transparent;\n",
              "      border-bottom-color: var(--fill-color);\n",
              "    }\n",
              "  }\n",
              "</style>\n",
              "\n",
              "  <script>\n",
              "    async function quickchart(key) {\n",
              "      const quickchartButtonEl =\n",
              "        document.querySelector('#' + key + ' button');\n",
              "      quickchartButtonEl.disabled = true;  // To prevent multiple clicks.\n",
              "      quickchartButtonEl.classList.add('colab-df-spinner');\n",
              "      try {\n",
              "        const charts = await google.colab.kernel.invokeFunction(\n",
              "            'suggestCharts', [key], {});\n",
              "      } catch (error) {\n",
              "        console.error('Error during call to suggestCharts:', error);\n",
              "      }\n",
              "      quickchartButtonEl.classList.remove('colab-df-spinner');\n",
              "      quickchartButtonEl.classList.add('colab-df-quickchart-complete');\n",
              "    }\n",
              "    (() => {\n",
              "      let quickchartButtonEl =\n",
              "        document.querySelector('#df-102d1fe2-35bf-4810-8c6d-c3cbb8bfe42f button');\n",
              "      quickchartButtonEl.style.display =\n",
              "        google.colab.kernel.accessAllowed ? 'block' : 'none';\n",
              "    })();\n",
              "  </script>\n",
              "</div>\n",
              "\n",
              "    </div>\n",
              "  </div>\n"
            ],
            "application/vnd.google.colaboratory.intrinsic+json": {
              "type": "dataframe",
              "variable_name": "df",
              "summary": "{\n  \"name\": \"df\",\n  \"rows\": 32,\n  \"fields\": [\n    {\n      \"column\": \"Unnamed: 0\",\n      \"properties\": {\n        \"dtype\": \"number\",\n        \"std\": 9,\n        \"min\": 0,\n        \"max\": 31,\n        \"num_unique_values\": 32,\n        \"samples\": [\n          29,\n          15,\n          24\n        ],\n        \"semantic_type\": \"\",\n        \"description\": \"\"\n      }\n    },\n    {\n      \"column\": \"y\",\n      \"properties\": {\n        \"dtype\": \"number\",\n        \"std\": 1.8837162994395398,\n        \"min\": 1.0,\n        \"max\": 10.0,\n        \"num_unique_values\": 9,\n        \"samples\": [\n          10.0,\n          4.0,\n          1.0\n        ],\n        \"semantic_type\": \"\",\n        \"description\": \"\"\n      }\n    },\n    {\n      \"column\": \"a\",\n      \"properties\": {\n        \"dtype\": \"number\",\n        \"std\": 1,\n        \"min\": 1,\n        \"max\": 4,\n        \"num_unique_values\": 4,\n        \"samples\": [\n          2,\n          4,\n          1\n        ],\n        \"semantic_type\": \"\",\n        \"description\": \"\"\n      }\n    },\n    {\n      \"column\": \"s\",\n      \"properties\": {\n        \"dtype\": \"number\",\n        \"std\": 2.3279507809895117,\n        \"min\": 1.0,\n        \"max\": 8.0,\n        \"num_unique_values\": 8,\n        \"samples\": [\n          2.0,\n          6.0,\n          1.0\n        ],\n        \"semantic_type\": \"\",\n        \"description\": \"\"\n      }\n    }\n  ]\n}"
            }
          },
          "metadata": {},
          "execution_count": 37
        }
      ]
    },
    {
      "cell_type": "code",
      "source": [
        "# One-way repeated measures Friedman test\n",
        "import pandas as pd\n",
        "import matplotlib.pyplot as plt\n",
        "from scipy.stats import friedmanchisquare\n",
        "\n",
        "# Assuming your data is stored in a DataFrame called df4\n",
        "# Keep only the specified columns\n",
        "df_subset = df[['y', 's', 'a']]\n",
        "\n",
        "# Perform Friedman test\n",
        "statistic, p_value = friedmanchisquare(*df_subset.groupby('s')['y'].apply(list))\n",
        "\n",
        "# Print the result\n",
        "print(\"Friedman Test:\")\n",
        "print(f\"Chi-Square Statistic: {statistic}\")\n",
        "print(f\"P-value: {p_value:.4f}\")\n",
        "\n",
        "# Create a grouped bar plot for visualization\n",
        "plt.figure(figsize=(8, 6))\n",
        "df_subset.groupby(['s', 'a']).size().unstack().plot(kind='bar', stacked=True)\n",
        "plt.title('Grouped Bar Plot of y by s and a')\n",
        "plt.xlabel('s')\n",
        "plt.ylabel('Count')\n",
        "plt.legend(title='a', title_fontsize='12')\n",
        "plt.show()"
      ],
      "metadata": {
        "colab": {
          "base_uri": "https://localhost:8080/",
          "height": 554
        },
        "id": "zjh4JPjby-c1",
        "outputId": "51068b71-6266-4ea9-b69d-d49c77e084e0"
      },
      "execution_count": 38,
      "outputs": [
        {
          "output_type": "stream",
          "name": "stdout",
          "text": [
            "Friedman Test:\n",
            "Chi-Square Statistic: 15.822222222222218\n",
            "P-value: 0.0268\n"
          ]
        },
        {
          "output_type": "display_data",
          "data": {
            "text/plain": [
              "<Figure size 800x600 with 0 Axes>"
            ]
          },
          "metadata": {}
        },
        {
          "output_type": "display_data",
          "data": {
            "text/plain": [
              "<Figure size 640x480 with 1 Axes>"
            ],
            "image/png": "[encoded data removed]"
          },
          "metadata": {}
        }
      ]
    },
    {
      "cell_type": "code",
      "source": [],
      "metadata": {
        "id": "sX8BTmSRz1Ct"
      },
      "execution_count": 38,
      "outputs": []
    }
  ]
}